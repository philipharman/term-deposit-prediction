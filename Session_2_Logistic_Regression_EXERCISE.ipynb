{
 "cells": [
  {
   "cell_type": "markdown",
   "metadata": {
    "id": "FGwd_FaSM139"
   },
   "source": [
    "![BTS](https://github.com/vfp1/bts-dsf-2020/raw/main/Logo-BTS.jpg)\n",
    "\n",
    "# Session 2: Logistic Regression EXERCISE\n",
    "\n",
    "### Victor F. Pajuelo Madrigal <victor.pajuelo@bts.tech> - Classical Data Analysis\n",
    "\n",
    "Open this notebook in Google Colaboratory: [![Open in Colab](https://colab.research.google.com/assets/colab-badge.svg)](https://colab.research.google.com/github/vfp1/bts-cda-2020/blob/main/Session_2/Session_2_Logistic_Regression_EXERCISE.ipynb)\n",
    "\n",
    "**Resources:**\n",
    "* Sklearn documentation"
   ]
  },
  {
   "cell_type": "markdown",
   "metadata": {
    "id": "qhbbL6bgLU_R"
   },
   "source": [
    "# Logistic Regression Assignment"
   ]
  },
  {
   "cell_type": "markdown",
   "metadata": {
    "id": "3n-19MN2LU_T"
   },
   "source": [
    "We are given a dataset of  direct marketing campaigns of a credit institution. **Our goal is to implement a model to predict whether the client will subscribe to a term deposit.**\n",
    "\n",
    "**When working on the assignment there could be multiple ways to explore data or implement specific analysis. Choose that one you retain more appropriate but always justify every choice you make (e.g., why you choose some variables), comment your code, describe the plots and results you obtain.**\n",
    "\n",
    "\n",
    "### Enjoy!"
   ]
  },
  {
   "cell_type": "markdown",
   "metadata": {
    "id": "qLiDiMlzLU_U"
   },
   "source": [
    "DATASET DESCRIPTION\n",
    "\n",
    "- age (numeric)\n",
    "- job : type of job \n",
    "- marital : marital status\n",
    "- education \n",
    "- default: has credit in default? \n",
    "- housing: has housing loan? \n",
    "- loan: has personal loan? \n",
    "- contact: contact communication type \n",
    "- month: last contact month of year \n",
    "- day_of_week: last contact day of the week \n",
    "- duration: last contact duration, in seconds (numeric). Important note: this attribute highly affects the output target (e.g., if duration=0 then y=’no’). The duration is not known before a call is performed, also, after the end of the call, y is obviously known. Thus, this input should only be included for benchmark purposes and should be discarded if the intention is to have a realistic predictive model\n",
    "- campaign: number of contacts performed during this campaign and for this client \n",
    "- pdays: number of days that passed by after the client was last contacted from a previous campaign (999 means client was not previously contacted)\n",
    "- previous: number of contacts performed before this campaign and for this client (numeric)\n",
    "- poutcome: outcome of the previous marketing campaign \n",
    "- emp.var.rate: employment variation rate \n",
    "- cons.price.idx: consumer price index \n",
    "- cons.conf.idx: consumer confidence index \n",
    "- euribor3m: euribor 3 month rate \n",
    "- nr.employed: number of employees \n",
    "- y — Target variable: has the client subscribed a term deposit? "
   ]
  },
  {
   "cell_type": "markdown",
   "metadata": {
    "id": "36LYnxuALU_V"
   },
   "source": [
    "##### Import libraries"
   ]
  },
  {
   "cell_type": "code",
   "execution_count": 1,
   "metadata": {
    "id": "MGWs5Jw-LU_V"
   },
   "outputs": [],
   "source": [
    "import pandas as pd\n",
    "import numpy as np\n",
    "from sklearn import preprocessing\n",
    "import matplotlib.pyplot as plt \n",
    "plt.rc(\"font\", size=18)\n",
    "from sklearn.linear_model import LogisticRegression\n",
    "from sklearn.model_selection import train_test_split\n",
    "import seaborn as sns\n",
    "import pickle\n",
    "\n",
    "sns.set(style=\"white\")\n",
    "sns.set(style=\"whitegrid\", color_codes=True)\n",
    "sns.set()"
   ]
  },
  {
   "cell_type": "code",
   "execution_count": 69,
   "metadata": {
    "id": "WYykgapRLU_W",
    "outputId": "be780132-11a0-4b14-ae97-05a3485eef70"
   },
   "outputs": [
    {
     "data": {
      "text/html": [
       "<div>\n",
       "<style scoped>\n",
       "    .dataframe tbody tr th:only-of-type {\n",
       "        vertical-align: middle;\n",
       "    }\n",
       "\n",
       "    .dataframe tbody tr th {\n",
       "        vertical-align: top;\n",
       "    }\n",
       "\n",
       "    .dataframe thead th {\n",
       "        text-align: right;\n",
       "    }\n",
       "</style>\n",
       "<table border=\"1\" class=\"dataframe\">\n",
       "  <thead>\n",
       "    <tr style=\"text-align: right;\">\n",
       "      <th></th>\n",
       "      <th>age</th>\n",
       "      <th>job</th>\n",
       "      <th>marital</th>\n",
       "      <th>education</th>\n",
       "      <th>default</th>\n",
       "      <th>housing</th>\n",
       "      <th>loan</th>\n",
       "      <th>contact</th>\n",
       "      <th>month</th>\n",
       "      <th>day_of_week</th>\n",
       "      <th>...</th>\n",
       "      <th>campaign</th>\n",
       "      <th>pdays</th>\n",
       "      <th>previous</th>\n",
       "      <th>poutcome</th>\n",
       "      <th>emp_var_rate</th>\n",
       "      <th>cons_price_idx</th>\n",
       "      <th>cons_conf_idx</th>\n",
       "      <th>euribor3m</th>\n",
       "      <th>nr_employed</th>\n",
       "      <th>y</th>\n",
       "    </tr>\n",
       "  </thead>\n",
       "  <tbody>\n",
       "    <tr>\n",
       "      <td>0</td>\n",
       "      <td>44</td>\n",
       "      <td>blue-collar</td>\n",
       "      <td>married</td>\n",
       "      <td>basic.4y</td>\n",
       "      <td>unknown</td>\n",
       "      <td>yes</td>\n",
       "      <td>no</td>\n",
       "      <td>cellular</td>\n",
       "      <td>aug</td>\n",
       "      <td>thu</td>\n",
       "      <td>...</td>\n",
       "      <td>1</td>\n",
       "      <td>999</td>\n",
       "      <td>0</td>\n",
       "      <td>nonexistent</td>\n",
       "      <td>1.4</td>\n",
       "      <td>93.444</td>\n",
       "      <td>-36.1</td>\n",
       "      <td>4.963</td>\n",
       "      <td>5228.1</td>\n",
       "      <td>0</td>\n",
       "    </tr>\n",
       "    <tr>\n",
       "      <td>1</td>\n",
       "      <td>53</td>\n",
       "      <td>technician</td>\n",
       "      <td>married</td>\n",
       "      <td>unknown</td>\n",
       "      <td>no</td>\n",
       "      <td>no</td>\n",
       "      <td>no</td>\n",
       "      <td>cellular</td>\n",
       "      <td>nov</td>\n",
       "      <td>fri</td>\n",
       "      <td>...</td>\n",
       "      <td>1</td>\n",
       "      <td>999</td>\n",
       "      <td>0</td>\n",
       "      <td>nonexistent</td>\n",
       "      <td>-0.1</td>\n",
       "      <td>93.200</td>\n",
       "      <td>-42.0</td>\n",
       "      <td>4.021</td>\n",
       "      <td>5195.8</td>\n",
       "      <td>0</td>\n",
       "    </tr>\n",
       "    <tr>\n",
       "      <td>2</td>\n",
       "      <td>28</td>\n",
       "      <td>management</td>\n",
       "      <td>single</td>\n",
       "      <td>university.degree</td>\n",
       "      <td>no</td>\n",
       "      <td>yes</td>\n",
       "      <td>no</td>\n",
       "      <td>cellular</td>\n",
       "      <td>jun</td>\n",
       "      <td>thu</td>\n",
       "      <td>...</td>\n",
       "      <td>3</td>\n",
       "      <td>6</td>\n",
       "      <td>2</td>\n",
       "      <td>success</td>\n",
       "      <td>-1.7</td>\n",
       "      <td>94.055</td>\n",
       "      <td>-39.8</td>\n",
       "      <td>0.729</td>\n",
       "      <td>4991.6</td>\n",
       "      <td>1</td>\n",
       "    </tr>\n",
       "  </tbody>\n",
       "</table>\n",
       "<p>3 rows × 21 columns</p>\n",
       "</div>"
      ],
      "text/plain": [
       "   age          job  marital          education  default housing loan  \\\n",
       "0   44  blue-collar  married           basic.4y  unknown     yes   no   \n",
       "1   53   technician  married            unknown       no      no   no   \n",
       "2   28   management   single  university.degree       no     yes   no   \n",
       "\n",
       "    contact month day_of_week  ...  campaign  pdays  previous     poutcome  \\\n",
       "0  cellular   aug         thu  ...         1    999         0  nonexistent   \n",
       "1  cellular   nov         fri  ...         1    999         0  nonexistent   \n",
       "2  cellular   jun         thu  ...         3      6         2      success   \n",
       "\n",
       "  emp_var_rate  cons_price_idx  cons_conf_idx  euribor3m  nr_employed  y  \n",
       "0          1.4          93.444          -36.1      4.963       5228.1  0  \n",
       "1         -0.1          93.200          -42.0      4.021       5195.8  0  \n",
       "2         -1.7          94.055          -39.8      0.729       4991.6  1  \n",
       "\n",
       "[3 rows x 21 columns]"
      ]
     },
     "execution_count": 69,
     "metadata": {},
     "output_type": "execute_result"
    }
   ],
   "source": [
    "url = 'https://raw.githubusercontent.com/vfp1/bts-cda-2020/main/Session_2/banking.csv'\n",
    "data = pd.read_csv(url)\n",
    "data.head(3)"
   ]
  },
  {
   "cell_type": "code",
   "execution_count": 70,
   "metadata": {
    "id": "iKObpqA-LU_X",
    "outputId": "849c3ef9-2f49-47c2-e0bf-e511f56233e1"
   },
   "outputs": [
    {
     "data": {
      "text/plain": [
       "(41188, 21)"
      ]
     },
     "execution_count": 70,
     "metadata": {},
     "output_type": "execute_result"
    }
   ],
   "source": [
    "data.shape"
   ]
  },
  {
   "cell_type": "markdown",
   "metadata": {
    "id": "aqpbWf5ZLU_Y"
   },
   "source": [
    "## EDA and Feature Engineering \n",
    "\n",
    "An important requirement for Logistic Regression to function properly is Feature Engineering as it helps to identify independent variables. Without proper identification of independent variables Logistic Regression fails to perform correctly."
   ]
  },
  {
   "cell_type": "markdown",
   "metadata": {
    "id": "BXv9wgqILU_Y"
   },
   "source": [
    "One disadvantage of logistic regression is that it doesn’t handle large number of categorical variables well.\n",
    "\n",
    "```education``` column has many categories, try to reduce the categories for a better modelling. The education column has the following categories.\n"
   ]
  },
  {
   "cell_type": "code",
   "execution_count": 71,
   "metadata": {
    "id": "DdkrF0WrLU_Y",
    "outputId": "7f23be0a-76a9-435e-d3c4-11f6c968b543"
   },
   "outputs": [
    {
     "data": {
      "text/plain": [
       "array(['basic.4y', 'unknown', 'university.degree', 'high.school',\n",
       "       'basic.9y', 'professional.course', 'basic.6y', 'illiterate'],\n",
       "      dtype=object)"
      ]
     },
     "execution_count": 71,
     "metadata": {},
     "output_type": "execute_result"
    }
   ],
   "source": [
    "data.education.unique()"
   ]
  },
  {
   "cell_type": "markdown",
   "metadata": {
    "id": "NXYm8tJZLU_Z"
   },
   "source": [
    "We will group all ```basic.XX``` in a unique value ```basic```"
   ]
  },
  {
   "cell_type": "code",
   "execution_count": 72,
   "metadata": {
    "id": "Ap-uOLjELU_Z",
    "scrolled": true
   },
   "outputs": [
    {
     "name": "stderr",
     "output_type": "stream",
     "text": [
      "C:\\Users\\Philip Harman\\Anaconda3\\lib\\site-packages\\ipykernel_launcher.py:1: SettingWithCopyWarning: \n",
      "A value is trying to be set on a copy of a slice from a DataFrame\n",
      "\n",
      "See the caveats in the documentation: http://pandas.pydata.org/pandas-docs/stable/user_guide/indexing.html#returning-a-view-versus-a-copy\n",
      "  \"\"\"Entry point for launching an IPython kernel.\n"
     ]
    },
    {
     "data": {
      "text/plain": [
       "array(['basic', 'unknown', 'university.degree', 'high.school',\n",
       "       'professional.course', 'illiterate'], dtype=object)"
      ]
     },
     "execution_count": 72,
     "metadata": {},
     "output_type": "execute_result"
    }
   ],
   "source": [
    "data.education[data.education.str.contains('basic')] = 'basic'\n",
    "data.education.unique()"
   ]
  },
  {
   "cell_type": "markdown",
   "metadata": {
    "id": "wY3up1slLU_Z"
   },
   "source": [
    "##### Analyse the distribution of the target variable"
   ]
  },
  {
   "cell_type": "code",
   "execution_count": 73,
   "metadata": {
    "id": "d_DtUq3RLU_a",
    "outputId": "8feac588-5186-4e3d-8d3e-2bef799eafc7"
   },
   "outputs": [
    {
     "name": "stderr",
     "output_type": "stream",
     "text": [
      "C:\\Users\\Philip Harman\\Anaconda3\\lib\\site-packages\\seaborn\\_decorators.py:43: FutureWarning: Pass the following variable as a keyword arg: x. From version 0.12, the only valid positional argument will be `data`, and passing other arguments without an explicit keyword will result in an error or misinterpretation.\n",
      "  FutureWarning\n"
     ]
    },
    {
     "data": {
      "image/png": "[encoded data removed]",
      "text/plain": [
       "<Figure size 432x288 with 1 Axes>"
      ]
     },
     "metadata": {},
     "output_type": "display_data"
    }
   ],
   "source": [
    "ax = sns.countplot(data.y)\n",
    "for p in ax.patches:\n",
    "        ax.annotate('{:.0f}'.format(p.get_height()), (p.get_x()+0.3, p.get_height()+50))"
   ]
  },
  {
   "cell_type": "code",
   "execution_count": 74,
   "metadata": {
    "id": "x9L0VMi4LU_a",
    "outputId": "22ec09e1-bb06-4c43-ccc9-da2e544ea977"
   },
   "outputs": [
    {
     "data": {
      "text/html": [
       "<div>\n",
       "<style scoped>\n",
       "    .dataframe tbody tr th:only-of-type {\n",
       "        vertical-align: middle;\n",
       "    }\n",
       "\n",
       "    .dataframe tbody tr th {\n",
       "        vertical-align: top;\n",
       "    }\n",
       "\n",
       "    .dataframe thead th {\n",
       "        text-align: right;\n",
       "    }\n",
       "</style>\n",
       "<table border=\"1\" class=\"dataframe\">\n",
       "  <thead>\n",
       "    <tr style=\"text-align: right;\">\n",
       "      <th></th>\n",
       "      <th>Count</th>\n",
       "      <th>Pct</th>\n",
       "    </tr>\n",
       "  </thead>\n",
       "  <tbody>\n",
       "    <tr>\n",
       "      <td>0</td>\n",
       "      <td>36548</td>\n",
       "      <td>88.734583</td>\n",
       "    </tr>\n",
       "    <tr>\n",
       "      <td>1</td>\n",
       "      <td>4640</td>\n",
       "      <td>11.265417</td>\n",
       "    </tr>\n",
       "  </tbody>\n",
       "</table>\n",
       "</div>"
      ],
      "text/plain": [
       "   Count        Pct\n",
       "0  36548  88.734583\n",
       "1   4640  11.265417"
      ]
     },
     "execution_count": 74,
     "metadata": {},
     "output_type": "execute_result"
    }
   ],
   "source": [
    "target_summary = pd.DataFrame({'Count' : data.y.value_counts(), 'Pct' : data.y.value_counts(normalize = True)*100})\n",
    "target_summary"
   ]
  },
  {
   "cell_type": "markdown",
   "metadata": {
    "id": "04i5deoGLU_a"
   },
   "source": [
    "##### What can we observe about the distribution of the target variable"
   ]
  },
  {
   "cell_type": "markdown",
   "metadata": {
    "id": "qR4mRdKrLU_b"
   },
   "source": [
    "The majority of clients (~89%) have NOT subscribed to a term deposit."
   ]
  },
  {
   "cell_type": "markdown",
   "metadata": {
    "id": "ScidMCiJLU_b"
   },
   "source": [
    "##### Observe how the different numeric variables behave for the 2 classes"
   ]
  },
  {
   "cell_type": "code",
   "execution_count": 75,
   "metadata": {
    "id": "JlERm2TqLU_b",
    "outputId": "0059ea93-03ff-4e4f-fff5-c41902db52fd"
   },
   "outputs": [
    {
     "data": {
      "text/html": [
       "<div>\n",
       "<style scoped>\n",
       "    .dataframe tbody tr th:only-of-type {\n",
       "        vertical-align: middle;\n",
       "    }\n",
       "\n",
       "    .dataframe tbody tr th {\n",
       "        vertical-align: top;\n",
       "    }\n",
       "\n",
       "    .dataframe thead th {\n",
       "        text-align: right;\n",
       "    }\n",
       "</style>\n",
       "<table border=\"1\" class=\"dataframe\">\n",
       "  <thead>\n",
       "    <tr style=\"text-align: right;\">\n",
       "      <th></th>\n",
       "      <th>age</th>\n",
       "      <th>duration</th>\n",
       "      <th>campaign</th>\n",
       "      <th>pdays</th>\n",
       "      <th>previous</th>\n",
       "      <th>emp_var_rate</th>\n",
       "      <th>cons_price_idx</th>\n",
       "      <th>cons_conf_idx</th>\n",
       "      <th>euribor3m</th>\n",
       "      <th>nr_employed</th>\n",
       "    </tr>\n",
       "    <tr>\n",
       "      <th>y</th>\n",
       "      <th></th>\n",
       "      <th></th>\n",
       "      <th></th>\n",
       "      <th></th>\n",
       "      <th></th>\n",
       "      <th></th>\n",
       "      <th></th>\n",
       "      <th></th>\n",
       "      <th></th>\n",
       "      <th></th>\n",
       "    </tr>\n",
       "  </thead>\n",
       "  <tbody>\n",
       "    <tr>\n",
       "      <td>0</td>\n",
       "      <td>39.911185</td>\n",
       "      <td>220.844807</td>\n",
       "      <td>2.633085</td>\n",
       "      <td>984.113878</td>\n",
       "      <td>0.132374</td>\n",
       "      <td>0.248875</td>\n",
       "      <td>93.603757</td>\n",
       "      <td>-40.593097</td>\n",
       "      <td>3.811491</td>\n",
       "      <td>5176.166600</td>\n",
       "    </tr>\n",
       "    <tr>\n",
       "      <td>1</td>\n",
       "      <td>40.913147</td>\n",
       "      <td>553.191164</td>\n",
       "      <td>2.051724</td>\n",
       "      <td>792.035560</td>\n",
       "      <td>0.492672</td>\n",
       "      <td>-1.233448</td>\n",
       "      <td>93.354386</td>\n",
       "      <td>-39.789784</td>\n",
       "      <td>2.123135</td>\n",
       "      <td>5095.115991</td>\n",
       "    </tr>\n",
       "  </tbody>\n",
       "</table>\n",
       "</div>"
      ],
      "text/plain": [
       "         age    duration  campaign       pdays  previous  emp_var_rate  \\\n",
       "y                                                                        \n",
       "0  39.911185  220.844807  2.633085  984.113878  0.132374      0.248875   \n",
       "1  40.913147  553.191164  2.051724  792.035560  0.492672     -1.233448   \n",
       "\n",
       "   cons_price_idx  cons_conf_idx  euribor3m  nr_employed  \n",
       "y                                                         \n",
       "0       93.603757     -40.593097   3.811491  5176.166600  \n",
       "1       93.354386     -39.789784   2.123135  5095.115991  "
      ]
     },
     "execution_count": 75,
     "metadata": {},
     "output_type": "execute_result"
    }
   ],
   "source": [
    "# Put your code here\n",
    "num_vars = ['age','duration','campaign','pdays','previous','emp_var_rate','cons_price_idx',\n",
    "               'cons_conf_idx','euribor3m','nr_employed']\n",
    "data[num_vars].groupby(data.y).mean()"
   ]
  },
  {
   "cell_type": "code",
   "execution_count": 76,
   "metadata": {
    "scrolled": false
   },
   "outputs": [
    {
     "name": "stdout",
     "output_type": "stream",
     "text": [
      "Average pdays grouped by target variable.\n",
      "Excluding 999 values (where client was never contacted) \n"
     ]
    },
    {
     "data": {
      "text/html": [
       "<div>\n",
       "<style scoped>\n",
       "    .dataframe tbody tr th:only-of-type {\n",
       "        vertical-align: middle;\n",
       "    }\n",
       "\n",
       "    .dataframe tbody tr th {\n",
       "        vertical-align: top;\n",
       "    }\n",
       "\n",
       "    .dataframe thead th {\n",
       "        text-align: right;\n",
       "    }\n",
       "</style>\n",
       "<table border=\"1\" class=\"dataframe\">\n",
       "  <thead>\n",
       "    <tr style=\"text-align: right;\">\n",
       "      <th></th>\n",
       "      <th>pdays</th>\n",
       "    </tr>\n",
       "    <tr>\n",
       "      <th>y</th>\n",
       "      <th></th>\n",
       "    </tr>\n",
       "  </thead>\n",
       "  <tbody>\n",
       "    <tr>\n",
       "      <td>0</td>\n",
       "      <td>6.193431</td>\n",
       "    </tr>\n",
       "    <tr>\n",
       "      <td>1</td>\n",
       "      <td>5.913133</td>\n",
       "    </tr>\n",
       "  </tbody>\n",
       "</table>\n",
       "</div>"
      ],
      "text/plain": [
       "      pdays\n",
       "y          \n",
       "0  6.193431\n",
       "1  5.913133"
      ]
     },
     "execution_count": 76,
     "metadata": {},
     "output_type": "execute_result"
    }
   ],
   "source": [
    "print('Average pdays grouped by target variable.\\nExcluding 999 values (where client was never contacted) ')\n",
    "pd.DataFrame(data.pdays[data.pdays != 999].groupby(data.y).mean())"
   ]
  },
  {
   "cell_type": "markdown",
   "metadata": {
    "id": "-X1VvXz7LU_b"
   },
   "source": [
    "Observations of Numeric variable trends associated with subscriptions:\n",
    "- Longer [duration] of last contact. Makes sense - more time on the phone suggests interest and allows greater opportunity to pursuade customer.\n",
    "- Fewer [campaign] contacts. Surprising, would expect the opposite.\n",
    "- Fewer [pdays] since last contact. However, as shown above, this difference is less pronounced after removing instances where pdays = 999 (i.e. where client was not previously contacted)\n",
    "- Higher avg. number of [previous] contacts\n",
    "- Lower avg. [emp_var_rate]\n",
    "- Lower avg. [euribor3m]"
   ]
  },
  {
   "cell_type": "markdown",
   "metadata": {
    "id": "EAnRy0CvLU_c"
   },
   "source": [
    "##### Analyse other variables - Make some plots and discuss them"
   ]
  },
  {
   "cell_type": "code",
   "execution_count": 77,
   "metadata": {},
   "outputs": [],
   "source": [
    "# A function to plot Subcription (y/n) volume/frequency for the chosen variable\n",
    "def lil_plachty(param):\n",
    "    param_ct = pd.DataFrame(data.y.groupby(data[param])\n",
    "                            .value_counts()).unstack().sort_values(('y', 1), ascending = False)\n",
    "    param_pct = pd.DataFrame(data.y.groupby(data[param])\n",
    "                             .value_counts(normalize = True)).unstack().sort_values(('y', 1), ascending = False)\n",
    "    fig, (ax1, ax2) = plt.subplots(1,2)\n",
    "    fig.set_size_inches(13,5)\n",
    "    param_ct.plot(kind = 'bar', ax = ax1)\n",
    "    ax1.legend([0,1], loc = 'center right')\n",
    "    ax1.set_title('Subscription volume by ' + str(param))\n",
    "    \n",
    "    param_pct.plot(kind = 'bar', ax = ax2)\n",
    "    ax2.legend([0,1], loc = 'center right')\n",
    "    ax2.set_title('Subscription frequency by ' + str(param))\n",
    "    "
   ]
  },
  {
   "cell_type": "code",
   "execution_count": 78,
   "metadata": {},
   "outputs": [
    {
     "data": {
      "image/png": "[encoded data removed]",
      "text/plain": [
       "<Figure size 936x360 with 2 Axes>"
      ]
     },
     "metadata": {},
     "output_type": "display_data"
    }
   ],
   "source": [
    "lil_plachty('job')"
   ]
  },
  {
   "cell_type": "markdown",
   "metadata": {},
   "source": [
    "#### Job type/status\n",
    "- Admin, techicians, and blue collar workers are the top three by *Subscription volume*\n",
    "- Students, retired, and unemployed people are the top three by *Subscription rate*"
   ]
  },
  {
   "cell_type": "code",
   "execution_count": 79,
   "metadata": {},
   "outputs": [
    {
     "data": {
      "image/png": "[encoded data removed]",
      "text/plain": [
       "<Figure size 936x360 with 2 Axes>"
      ]
     },
     "metadata": {},
     "output_type": "display_data"
    }
   ],
   "source": [
    "lil_plachty('marital')"
   ]
  },
  {
   "cell_type": "markdown",
   "metadata": {
    "id": "LQTy4Oc7LU_d"
   },
   "source": [
    "#### Marital status\n",
    "- Married and Single make up most of the *Subscription volume*\n",
    "- Single/unknown have the highest *Subscription frequency*, although the difference is small."
   ]
  },
  {
   "cell_type": "code",
   "execution_count": 80,
   "metadata": {},
   "outputs": [
    {
     "data": {
      "image/png": "[encoded data removed]",
      "text/plain": [
       "<Figure size 936x360 with 2 Axes>"
      ]
     },
     "metadata": {},
     "output_type": "display_data"
    }
   ],
   "source": [
    "lil_plachty('education')"
   ]
  },
  {
   "cell_type": "markdown",
   "metadata": {
    "id": "KVqKM9E4LU_e"
   },
   "source": [
    "#### Education\n",
    "- University degrees Subscribe the highest volume, followed by \"basic\" and then \"high-school\".\n",
    "- Highest rates are among illiterate/unknown education status. From there, rates descend with education level obtained (although the difference between these categories is small)"
   ]
  },
  {
   "cell_type": "code",
   "execution_count": 81,
   "metadata": {
    "scrolled": false
   },
   "outputs": [
    {
     "data": {
      "image/png": "[encoded data removed]",
      "text/plain": [
       "<Figure size 936x360 with 2 Axes>"
      ]
     },
     "metadata": {},
     "output_type": "display_data"
    }
   ],
   "source": [
    "lil_plachty('default')"
   ]
  },
  {
   "cell_type": "markdown",
   "metadata": {},
   "source": [
    "#### Default\n",
    "- Highest volume and frequency for individuals w/o credit in default (default = no)"
   ]
  },
  {
   "cell_type": "code",
   "execution_count": 82,
   "metadata": {
    "id": "q7s0MYoCLU_e",
    "outputId": "1d0493dd-f28f-4c1a-9ba6-a642d631e9f2",
    "scrolled": false
   },
   "outputs": [
    {
     "data": {
      "image/png": "[encoded data removed]",
      "text/plain": [
       "<Figure size 936x360 with 2 Axes>"
      ]
     },
     "metadata": {},
     "output_type": "display_data"
    }
   ],
   "source": [
    "lil_plachty('day_of_week')"
   ]
  },
  {
   "cell_type": "markdown",
   "metadata": {
    "id": "FerTcHjzLU_e"
   },
   "source": [
    "#### Day of week\n",
    "- Middle of week (Tues/Wed/Thur) have the highest Subscription rate *and* volume, but differences are minor.\n",
    "- NOTE: Will drop day of week. Does not appear to have much effect."
   ]
  },
  {
   "cell_type": "code",
   "execution_count": 83,
   "metadata": {
    "id": "WEp09bF7LU_f",
    "outputId": "fd95910c-970e-4fa7-a227-887bc9385c72"
   },
   "outputs": [
    {
     "data": {
      "image/png": "[encoded data removed]",
      "text/plain": [
       "<Figure size 936x360 with 2 Axes>"
      ]
     },
     "metadata": {},
     "output_type": "display_data"
    }
   ],
   "source": [
    "lil_plachty('month')"
   ]
  },
  {
   "cell_type": "markdown",
   "metadata": {
    "id": "tiE35FEVLU_f"
   },
   "source": [
    "#### Month\n",
    "- Highest volume occurs during the spring/summer months. However, frequency is low in these same months."
   ]
  },
  {
   "cell_type": "code",
   "execution_count": 84,
   "metadata": {
    "id": "oITPBVzILU_g",
    "outputId": "c83890b5-0f82-4f18-93cf-22185c8bdc15"
   },
   "outputs": [
    {
     "data": {
      "image/png": "[encoded data removed]",
      "text/plain": [
       "<Figure size 936x360 with 2 Axes>"
      ]
     },
     "metadata": {},
     "output_type": "display_data"
    }
   ],
   "source": [
    "lil_plachty('poutcome')"
   ]
  },
  {
   "cell_type": "markdown",
   "metadata": {
    "id": "kMBQWpvQLU_g"
   },
   "source": [
    "#### Poutcome\n",
    "- A previously successful marketing campaign leads to a very high frequency of subscriptions; however, this volume is very low. \n",
    "- The majority of volume occurs when a previous marketing campaign was nonexistent (but the frequency in this category is very low)."
   ]
  },
  {
   "cell_type": "code",
   "execution_count": 85,
   "metadata": {
    "scrolled": false
   },
   "outputs": [
    {
     "data": {
      "image/png": "[encoded data removed]",
      "text/plain": [
       "<Figure size 936x360 with 2 Axes>"
      ]
     },
     "metadata": {},
     "output_type": "display_data"
    }
   ],
   "source": [
    "lil_plachty('housing')"
   ]
  },
  {
   "cell_type": "markdown",
   "metadata": {},
   "source": [
    "#### Housing\n",
    "- Housing loan appears to have little to no effect"
   ]
  },
  {
   "cell_type": "code",
   "execution_count": 86,
   "metadata": {
    "scrolled": true
   },
   "outputs": [
    {
     "data": {
      "image/png": "[encoded data removed]",
      "text/plain": [
       "<Figure size 936x360 with 2 Axes>"
      ]
     },
     "metadata": {},
     "output_type": "display_data"
    }
   ],
   "source": [
    "lil_plachty('loan')"
   ]
  },
  {
   "cell_type": "markdown",
   "metadata": {},
   "source": [
    "#### Loan\n",
    "- Loan appears to have little to no effect."
   ]
  },
  {
   "cell_type": "code",
   "execution_count": 87,
   "metadata": {
    "scrolled": false
   },
   "outputs": [
    {
     "data": {
      "image/png": "[encoded data removed]",
      "text/plain": [
       "<Figure size 936x360 with 2 Axes>"
      ]
     },
     "metadata": {},
     "output_type": "display_data"
    }
   ],
   "source": [
    "lil_plachty('contact')"
   ]
  },
  {
   "cell_type": "markdown",
   "metadata": {
    "id": "amfENYJPLU_g"
   },
   "source": [
    "### Create dummy variables"
   ]
  },
  {
   "cell_type": "code",
   "execution_count": 88,
   "metadata": {
    "id": "opagatuMLU_g",
    "scrolled": true
   },
   "outputs": [
    {
     "data": {
      "text/html": [
       "<div>\n",
       "<style scoped>\n",
       "    .dataframe tbody tr th:only-of-type {\n",
       "        vertical-align: middle;\n",
       "    }\n",
       "\n",
       "    .dataframe tbody tr th {\n",
       "        vertical-align: top;\n",
       "    }\n",
       "\n",
       "    .dataframe thead th {\n",
       "        text-align: right;\n",
       "    }\n",
       "</style>\n",
       "<table border=\"1\" class=\"dataframe\">\n",
       "  <thead>\n",
       "    <tr style=\"text-align: right;\">\n",
       "      <th></th>\n",
       "      <th>age</th>\n",
       "      <th>duration</th>\n",
       "      <th>campaign</th>\n",
       "      <th>pdays</th>\n",
       "      <th>previous</th>\n",
       "      <th>emp_var_rate</th>\n",
       "      <th>cons_price_idx</th>\n",
       "      <th>cons_conf_idx</th>\n",
       "      <th>euribor3m</th>\n",
       "      <th>nr_employed</th>\n",
       "      <th>...</th>\n",
       "      <th>month_oct</th>\n",
       "      <th>month_sep</th>\n",
       "      <th>day_of_week_fri</th>\n",
       "      <th>day_of_week_mon</th>\n",
       "      <th>day_of_week_thu</th>\n",
       "      <th>day_of_week_tue</th>\n",
       "      <th>day_of_week_wed</th>\n",
       "      <th>poutcome_failure</th>\n",
       "      <th>poutcome_nonexistent</th>\n",
       "      <th>poutcome_success</th>\n",
       "    </tr>\n",
       "  </thead>\n",
       "  <tbody>\n",
       "    <tr>\n",
       "      <td>0</td>\n",
       "      <td>44</td>\n",
       "      <td>210</td>\n",
       "      <td>1</td>\n",
       "      <td>999</td>\n",
       "      <td>0</td>\n",
       "      <td>1.4</td>\n",
       "      <td>93.444</td>\n",
       "      <td>-36.1</td>\n",
       "      <td>4.963</td>\n",
       "      <td>5228.1</td>\n",
       "      <td>...</td>\n",
       "      <td>0</td>\n",
       "      <td>0</td>\n",
       "      <td>0</td>\n",
       "      <td>0</td>\n",
       "      <td>1</td>\n",
       "      <td>0</td>\n",
       "      <td>0</td>\n",
       "      <td>0</td>\n",
       "      <td>1</td>\n",
       "      <td>0</td>\n",
       "    </tr>\n",
       "    <tr>\n",
       "      <td>1</td>\n",
       "      <td>53</td>\n",
       "      <td>138</td>\n",
       "      <td>1</td>\n",
       "      <td>999</td>\n",
       "      <td>0</td>\n",
       "      <td>-0.1</td>\n",
       "      <td>93.200</td>\n",
       "      <td>-42.0</td>\n",
       "      <td>4.021</td>\n",
       "      <td>5195.8</td>\n",
       "      <td>...</td>\n",
       "      <td>0</td>\n",
       "      <td>0</td>\n",
       "      <td>1</td>\n",
       "      <td>0</td>\n",
       "      <td>0</td>\n",
       "      <td>0</td>\n",
       "      <td>0</td>\n",
       "      <td>0</td>\n",
       "      <td>1</td>\n",
       "      <td>0</td>\n",
       "    </tr>\n",
       "    <tr>\n",
       "      <td>2</td>\n",
       "      <td>28</td>\n",
       "      <td>339</td>\n",
       "      <td>3</td>\n",
       "      <td>6</td>\n",
       "      <td>2</td>\n",
       "      <td>-1.7</td>\n",
       "      <td>94.055</td>\n",
       "      <td>-39.8</td>\n",
       "      <td>0.729</td>\n",
       "      <td>4991.6</td>\n",
       "      <td>...</td>\n",
       "      <td>0</td>\n",
       "      <td>0</td>\n",
       "      <td>0</td>\n",
       "      <td>0</td>\n",
       "      <td>1</td>\n",
       "      <td>0</td>\n",
       "      <td>0</td>\n",
       "      <td>0</td>\n",
       "      <td>0</td>\n",
       "      <td>1</td>\n",
       "    </tr>\n",
       "    <tr>\n",
       "      <td>3</td>\n",
       "      <td>39</td>\n",
       "      <td>185</td>\n",
       "      <td>2</td>\n",
       "      <td>999</td>\n",
       "      <td>0</td>\n",
       "      <td>-1.8</td>\n",
       "      <td>93.075</td>\n",
       "      <td>-47.1</td>\n",
       "      <td>1.405</td>\n",
       "      <td>5099.1</td>\n",
       "      <td>...</td>\n",
       "      <td>0</td>\n",
       "      <td>0</td>\n",
       "      <td>1</td>\n",
       "      <td>0</td>\n",
       "      <td>0</td>\n",
       "      <td>0</td>\n",
       "      <td>0</td>\n",
       "      <td>0</td>\n",
       "      <td>1</td>\n",
       "      <td>0</td>\n",
       "    </tr>\n",
       "    <tr>\n",
       "      <td>4</td>\n",
       "      <td>55</td>\n",
       "      <td>137</td>\n",
       "      <td>1</td>\n",
       "      <td>3</td>\n",
       "      <td>1</td>\n",
       "      <td>-2.9</td>\n",
       "      <td>92.201</td>\n",
       "      <td>-31.4</td>\n",
       "      <td>0.869</td>\n",
       "      <td>5076.2</td>\n",
       "      <td>...</td>\n",
       "      <td>0</td>\n",
       "      <td>0</td>\n",
       "      <td>1</td>\n",
       "      <td>0</td>\n",
       "      <td>0</td>\n",
       "      <td>0</td>\n",
       "      <td>0</td>\n",
       "      <td>0</td>\n",
       "      <td>0</td>\n",
       "      <td>1</td>\n",
       "    </tr>\n",
       "    <tr>\n",
       "      <td>...</td>\n",
       "      <td>...</td>\n",
       "      <td>...</td>\n",
       "      <td>...</td>\n",
       "      <td>...</td>\n",
       "      <td>...</td>\n",
       "      <td>...</td>\n",
       "      <td>...</td>\n",
       "      <td>...</td>\n",
       "      <td>...</td>\n",
       "      <td>...</td>\n",
       "      <td>...</td>\n",
       "      <td>...</td>\n",
       "      <td>...</td>\n",
       "      <td>...</td>\n",
       "      <td>...</td>\n",
       "      <td>...</td>\n",
       "      <td>...</td>\n",
       "      <td>...</td>\n",
       "      <td>...</td>\n",
       "      <td>...</td>\n",
       "      <td>...</td>\n",
       "    </tr>\n",
       "    <tr>\n",
       "      <td>41183</td>\n",
       "      <td>59</td>\n",
       "      <td>222</td>\n",
       "      <td>1</td>\n",
       "      <td>999</td>\n",
       "      <td>0</td>\n",
       "      <td>1.4</td>\n",
       "      <td>94.465</td>\n",
       "      <td>-41.8</td>\n",
       "      <td>4.866</td>\n",
       "      <td>5228.1</td>\n",
       "      <td>...</td>\n",
       "      <td>0</td>\n",
       "      <td>0</td>\n",
       "      <td>0</td>\n",
       "      <td>0</td>\n",
       "      <td>1</td>\n",
       "      <td>0</td>\n",
       "      <td>0</td>\n",
       "      <td>0</td>\n",
       "      <td>1</td>\n",
       "      <td>0</td>\n",
       "    </tr>\n",
       "    <tr>\n",
       "      <td>41184</td>\n",
       "      <td>31</td>\n",
       "      <td>196</td>\n",
       "      <td>2</td>\n",
       "      <td>999</td>\n",
       "      <td>0</td>\n",
       "      <td>1.1</td>\n",
       "      <td>93.994</td>\n",
       "      <td>-36.4</td>\n",
       "      <td>4.860</td>\n",
       "      <td>5191.0</td>\n",
       "      <td>...</td>\n",
       "      <td>0</td>\n",
       "      <td>0</td>\n",
       "      <td>0</td>\n",
       "      <td>0</td>\n",
       "      <td>1</td>\n",
       "      <td>0</td>\n",
       "      <td>0</td>\n",
       "      <td>0</td>\n",
       "      <td>1</td>\n",
       "      <td>0</td>\n",
       "    </tr>\n",
       "    <tr>\n",
       "      <td>41185</td>\n",
       "      <td>42</td>\n",
       "      <td>62</td>\n",
       "      <td>3</td>\n",
       "      <td>999</td>\n",
       "      <td>0</td>\n",
       "      <td>1.1</td>\n",
       "      <td>93.994</td>\n",
       "      <td>-36.4</td>\n",
       "      <td>4.857</td>\n",
       "      <td>5191.0</td>\n",
       "      <td>...</td>\n",
       "      <td>0</td>\n",
       "      <td>0</td>\n",
       "      <td>0</td>\n",
       "      <td>0</td>\n",
       "      <td>0</td>\n",
       "      <td>0</td>\n",
       "      <td>1</td>\n",
       "      <td>0</td>\n",
       "      <td>1</td>\n",
       "      <td>0</td>\n",
       "    </tr>\n",
       "    <tr>\n",
       "      <td>41186</td>\n",
       "      <td>48</td>\n",
       "      <td>200</td>\n",
       "      <td>2</td>\n",
       "      <td>999</td>\n",
       "      <td>0</td>\n",
       "      <td>-3.4</td>\n",
       "      <td>92.431</td>\n",
       "      <td>-26.9</td>\n",
       "      <td>0.742</td>\n",
       "      <td>5017.5</td>\n",
       "      <td>...</td>\n",
       "      <td>1</td>\n",
       "      <td>0</td>\n",
       "      <td>0</td>\n",
       "      <td>0</td>\n",
       "      <td>0</td>\n",
       "      <td>1</td>\n",
       "      <td>0</td>\n",
       "      <td>0</td>\n",
       "      <td>1</td>\n",
       "      <td>0</td>\n",
       "    </tr>\n",
       "    <tr>\n",
       "      <td>41187</td>\n",
       "      <td>25</td>\n",
       "      <td>112</td>\n",
       "      <td>4</td>\n",
       "      <td>999</td>\n",
       "      <td>0</td>\n",
       "      <td>1.1</td>\n",
       "      <td>93.994</td>\n",
       "      <td>-36.4</td>\n",
       "      <td>4.859</td>\n",
       "      <td>5191.0</td>\n",
       "      <td>...</td>\n",
       "      <td>0</td>\n",
       "      <td>0</td>\n",
       "      <td>1</td>\n",
       "      <td>0</td>\n",
       "      <td>0</td>\n",
       "      <td>0</td>\n",
       "      <td>0</td>\n",
       "      <td>0</td>\n",
       "      <td>1</td>\n",
       "      <td>0</td>\n",
       "    </tr>\n",
       "  </tbody>\n",
       "</table>\n",
       "<p>41188 rows × 62 columns</p>\n",
       "</div>"
      ],
      "text/plain": [
       "       age  duration  campaign  pdays  previous  emp_var_rate  cons_price_idx  \\\n",
       "0       44       210         1    999         0           1.4          93.444   \n",
       "1       53       138         1    999         0          -0.1          93.200   \n",
       "2       28       339         3      6         2          -1.7          94.055   \n",
       "3       39       185         2    999         0          -1.8          93.075   \n",
       "4       55       137         1      3         1          -2.9          92.201   \n",
       "...    ...       ...       ...    ...       ...           ...             ...   \n",
       "41183   59       222         1    999         0           1.4          94.465   \n",
       "41184   31       196         2    999         0           1.1          93.994   \n",
       "41185   42        62         3    999         0           1.1          93.994   \n",
       "41186   48       200         2    999         0          -3.4          92.431   \n",
       "41187   25       112         4    999         0           1.1          93.994   \n",
       "\n",
       "       cons_conf_idx  euribor3m  nr_employed  ...  month_oct  month_sep  \\\n",
       "0              -36.1      4.963       5228.1  ...          0          0   \n",
       "1              -42.0      4.021       5195.8  ...          0          0   \n",
       "2              -39.8      0.729       4991.6  ...          0          0   \n",
       "3              -47.1      1.405       5099.1  ...          0          0   \n",
       "4              -31.4      0.869       5076.2  ...          0          0   \n",
       "...              ...        ...          ...  ...        ...        ...   \n",
       "41183          -41.8      4.866       5228.1  ...          0          0   \n",
       "41184          -36.4      4.860       5191.0  ...          0          0   \n",
       "41185          -36.4      4.857       5191.0  ...          0          0   \n",
       "41186          -26.9      0.742       5017.5  ...          1          0   \n",
       "41187          -36.4      4.859       5191.0  ...          0          0   \n",
       "\n",
       "       day_of_week_fri  day_of_week_mon  day_of_week_thu  day_of_week_tue  \\\n",
       "0                    0                0                1                0   \n",
       "1                    1                0                0                0   \n",
       "2                    0                0                1                0   \n",
       "3                    1                0                0                0   \n",
       "4                    1                0                0                0   \n",
       "...                ...              ...              ...              ...   \n",
       "41183                0                0                1                0   \n",
       "41184                0                0                1                0   \n",
       "41185                0                0                0                0   \n",
       "41186                0                0                0                1   \n",
       "41187                1                0                0                0   \n",
       "\n",
       "       day_of_week_wed  poutcome_failure  poutcome_nonexistent  \\\n",
       "0                    0                 0                     1   \n",
       "1                    0                 0                     1   \n",
       "2                    0                 0                     0   \n",
       "3                    0                 0                     1   \n",
       "4                    0                 0                     0   \n",
       "...                ...               ...                   ...   \n",
       "41183                0                 0                     1   \n",
       "41184                0                 0                     1   \n",
       "41185                1                 0                     1   \n",
       "41186                0                 0                     1   \n",
       "41187                0                 0                     1   \n",
       "\n",
       "       poutcome_success  \n",
       "0                     0  \n",
       "1                     0  \n",
       "2                     1  \n",
       "3                     0  \n",
       "4                     1  \n",
       "...                 ...  \n",
       "41183                 0  \n",
       "41184                 0  \n",
       "41185                 0  \n",
       "41186                 0  \n",
       "41187                 0  \n",
       "\n",
       "[41188 rows x 62 columns]"
      ]
     },
     "execution_count": 88,
     "metadata": {},
     "output_type": "execute_result"
    }
   ],
   "source": [
    "data2 = pd.get_dummies(data, drop_first = False)\n",
    "data2"
   ]
  },
  {
   "cell_type": "markdown",
   "metadata": {
    "id": "dJEn6OPkLU_h"
   },
   "source": [
    "### Implement the Logistic Regression Model"
   ]
  },
  {
   "cell_type": "code",
   "execution_count": 90,
   "metadata": {
    "id": "ubSP1-1tLU_h"
   },
   "outputs": [],
   "source": [
    "from sklearn.linear_model import LogisticRegression\n",
    "from sklearn import metrics\n",
    "from sklearn.model_selection import train_test_split"
   ]
  },
  {
   "cell_type": "markdown",
   "metadata": {
    "id": "LR9CdWKPLU_h"
   },
   "source": [
    "##### Prepare the dataset for training"
   ]
  },
  {
   "cell_type": "code",
   "execution_count": 91,
   "metadata": {
    "id": "Ee33s_YGLU_h",
    "outputId": "15e359d3-2430-4e3d-e59e-de2c804299d2"
   },
   "outputs": [
    {
     "name": "stderr",
     "output_type": "stream",
     "text": [
      "C:\\Users\\Philip Harman\\Anaconda3\\lib\\site-packages\\sklearn\\linear_model\\_logistic.py:765: ConvergenceWarning: lbfgs failed to converge (status=1):\n",
      "STOP: TOTAL NO. of ITERATIONS REACHED LIMIT.\n",
      "\n",
      "Increase the number of iterations (max_iter) or scale the data as shown in:\n",
      "    https://scikit-learn.org/stable/modules/preprocessing.html\n",
      "Please also refer to the documentation for alternative solver options:\n",
      "    https://scikit-learn.org/stable/modules/linear_model.html#logistic-regression\n",
      "  extra_warning_msg=_LOGISTIC_SOLVER_CONVERGENCE_MSG)\n"
     ]
    },
    {
     "data": {
      "text/plain": [
       "LogisticRegression()"
      ]
     },
     "execution_count": 91,
     "metadata": {},
     "output_type": "execute_result"
    }
   ],
   "source": [
    "x = data2.drop(columns = 'y')\n",
    "y = data2.y\n",
    "\n",
    "# Split training and test - test size: 30% random state = 0\n",
    "x_train, x_test, y_train, y_test = train_test_split(x, y, test_size=0.30, random_state=0)\n",
    "\n",
    "# Create an instance of the model \n",
    "logmodel = LogisticRegression()\n",
    "\n",
    "#Fit the model\n",
    "logmodel.fit(x_train,y_train)"
   ]
  },
  {
   "cell_type": "markdown",
   "metadata": {
    "id": "_Fszc4z0LU_h"
   },
   "source": [
    "##### Compute predictions and accuracy using the accuracy score provided by the sklearn library"
   ]
  },
  {
   "cell_type": "code",
   "execution_count": 92,
   "metadata": {
    "id": "qi97iSBGLU_i",
    "outputId": "64ad4a2a-3af8-4f14-feee-aafeb2cb01f2"
   },
   "outputs": [
    {
     "name": "stdout",
     "output_type": "stream",
     "text": [
      "Accuracy of logistic regression classifier on test set: 0.91\n"
     ]
    }
   ],
   "source": [
    "y_pred = logmodel.predict(x_test)\n",
    "print('Accuracy of logistic regression classifier on test set: {:.2f}'\n",
    "      .format(metrics.accuracy_score(y_test, y_pred)))"
   ]
  },
  {
   "cell_type": "markdown",
   "metadata": {
    "id": "RhYjoyANLU_i"
   },
   "source": [
    "##### An accuracy of **91%** looks quite a good result, but have a look more in detail observing the confusion matrix and other metrics you consider interesting.\n",
    "\n",
    "\n",
    "##### EXPLAIN WHY ACCURACY IS NOT ENOUGH TO EVALUATE THE PERFORMANCE OF A CLASSIFIER AND WHY IT MIGHT FAIL IN CASE OF IMBALANCED DATASET\n"
   ]
  },
  {
   "cell_type": "code",
   "execution_count": 93,
   "metadata": {},
   "outputs": [
    {
     "name": "stdout",
     "output_type": "stream",
     "text": [
      "Percentage of Non-Subscribed Clients: 88 %\n"
     ]
    }
   ],
   "source": [
    "print(\"Percentage of Non-Subscribed Clients:\", int(len(data2[data2.y == 0])/len(data2)*100), '%')"
   ]
  },
  {
   "cell_type": "markdown",
   "metadata": {
    "id": "gOyza8U9LU_i"
   },
   "source": [
    "This dataset is imbalanced because 88% of customers are not subscribed (y=0 for 88% of clients). So, even if the model predicted y=0 every time, it would still have 88% accuracy. This also means that the score of 91% accuracy doesn't really guarantee the model works that well. This is an example of the Accuracy Paradox.\n"
   ]
  },
  {
   "cell_type": "markdown",
   "metadata": {
    "id": "9LyjcIJWLU_i"
   },
   "source": [
    "The confusion matrics gives an interesting overview of how well a model is doing and it is a great starting point for any classification model evaluation.\n",
    "\n",
    "![](https://skappal7.files.wordpress.com/2018/08/confusion-matrix.jpg?w=748)"
   ]
  },
  {
   "cell_type": "code",
   "execution_count": 94,
   "metadata": {
    "id": "jNGtLp3mLU_j",
    "outputId": "e6773af9-3b41-4bb2-e60e-66da582027ab"
   },
   "outputs": [
    {
     "data": {
      "text/plain": [
       "array([[10698,   283],\n",
       "       [  797,   579]], dtype=int64)"
      ]
     },
     "execution_count": 94,
     "metadata": {},
     "output_type": "execute_result"
    }
   ],
   "source": [
    "#Compute the confusion matrix\n",
    "metrics.confusion_matrix(y_test, y_pred)"
   ]
  },
  {
   "cell_type": "markdown",
   "metadata": {
    "id": "83E3eSOELU_j"
   },
   "source": [
    "**Is our model obtaining good results or is it failing in some specific case?**"
   ]
  },
  {
   "cell_type": "markdown",
   "metadata": {
    "id": "MsLAYc3KLU_j"
   },
   "source": [
    "The model's biggest issue seems to be false negatives. There are many cases (814) where the model is predicting Y = 0 (client not subscribed) where the client actually was subscribed. This may be due to the imbalanced dataset & the high volume of non-subscribed customers in the dataset.\n",
    "\n",
    "False positves are also an issue, but to a slightly smaller extent.\n"
   ]
  },
  {
   "cell_type": "markdown",
   "metadata": {
    "id": "BaH6pLMqLU_j"
   },
   "source": [
    "##### Compute other metrics using classification report"
   ]
  },
  {
   "cell_type": "code",
   "execution_count": 95,
   "metadata": {
    "id": "2S2ucK3mLU_j",
    "outputId": "13bbf851-12fb-45a9-a2bf-46596a9128da"
   },
   "outputs": [
    {
     "name": "stdout",
     "output_type": "stream",
     "text": [
      "              precision    recall  f1-score   support\n",
      "\n",
      "           0       0.93      0.97      0.95     10981\n",
      "           1       0.67      0.42      0.52      1376\n",
      "\n",
      "    accuracy                           0.91     12357\n",
      "   macro avg       0.80      0.70      0.73     12357\n",
      "weighted avg       0.90      0.91      0.90     12357\n",
      "\n"
     ]
    }
   ],
   "source": [
    "print(metrics.classification_report(y_test, y_pred))"
   ]
  },
  {
   "cell_type": "markdown",
   "metadata": {
    "id": "nLACLe5xLU_k"
   },
   "source": [
    "#### Remember:\n",
    "    \n",
    "**Precision:** percentage of your results which are relevant. Among all the elements that your model classify as positive, how many are really positive examples?\n",
    "\n",
    "$\\frac{TP}{TP+FP}$\n",
    "                                            \n",
    "\n",
    "**Recall:** percentage of total relevant results correctly classified by your algorithm.\n",
    "\n",
    "$\\frac{TP}{TP+FN}$                                            "
   ]
  },
  {
   "cell_type": "code",
   "execution_count": 96,
   "metadata": {
    "id": "_cXY_dVqLU_k",
    "outputId": "eb89f541-e2a2-43b5-d811-485062784a60"
   },
   "outputs": [
    {
     "data": {
      "text/plain": [
       "0.6803874092009685"
      ]
     },
     "execution_count": 96,
     "metadata": {},
     "output_type": "execute_result"
    }
   ],
   "source": [
    "562/(562+264) #Precision@1"
   ]
  },
  {
   "cell_type": "code",
   "execution_count": 97,
   "metadata": {
    "id": "wnbMGrKALU_k",
    "outputId": "e95fc882-fdf7-4353-fc01-8a7f57b82a82"
   },
   "outputs": [
    {
     "data": {
      "text/plain": [
       "0.40843023255813954"
      ]
     },
     "execution_count": 97,
     "metadata": {},
     "output_type": "execute_result"
    }
   ],
   "source": [
    "562/(814+562) #Recall@1"
   ]
  },
  {
   "cell_type": "markdown",
   "metadata": {
    "id": "uBE-2GcmLU_l"
   },
   "source": [
    "## Imbalanced Classes\n",
    "\n",
    "Imbalanced data typically refers to a problem with classification problems where the classes are not represented equally.\n",
    "\n",
    "\n",
    "##### Explain why imbalanced data can be a problem "
   ]
  },
  {
   "cell_type": "markdown",
   "metadata": {
    "id": "Ua1gGuA1LU_l"
   },
   "source": [
    "As noted above, 88% of clients in this dataset are not subscribed. For this reason, the model will develop a bias towards \"not subscribed\" (y=0) because it can do so while still having a high accuracy score."
   ]
  },
  {
   "cell_type": "markdown",
   "metadata": {
    "id": "qxZGpzNKLU_l"
   },
   "source": [
    "##### SMOTE\n",
    "\n",
    "During the exploratory data analysis we have seen that we have **Imbalanced Classes**, i.e.,the percentage of negative examples is much higher with respect to the percentage of positiv examples. Indeed, observing the confusion matrix we saw that the implmented model face some problem in predict the positive examples (if a client will subscribe a term deposit).\n",
    "\n",
    "\n",
    "To face this problem we will apply an over-sampling technique trying to balance our dataset generating **Synthetic Samples:** it consists in creating new synthetic points from the minority class to increase its cardinality.\n",
    "\n",
    "we will use the **SMOTE** Algorithm [see here for more details](https://arxiv.org/pdf/1106.1813.pdf)."
   ]
  },
  {
   "cell_type": "markdown",
   "metadata": {
    "id": "OTsHhZRsLU_m"
   },
   "source": [
    "In order to apply SMOTE **install the imblearn python library** (if you already have it you do not need to reinstall):\n",
    "\n",
    "[Follow this instructions](https://imbalanced-learn.readthedocs.io/en/stable/install.html)\n"
   ]
  },
  {
   "cell_type": "markdown",
   "metadata": {
    "id": "eyLx8ndgLU_m"
   },
   "source": [
    "### Now implent again the model following all the steps\n",
    "\n",
    "Prepare the data"
   ]
  },
  {
   "cell_type": "code",
   "execution_count": 98,
   "metadata": {
    "id": "bK67DZkiLU_m"
   },
   "outputs": [],
   "source": [
    "x = data2.loc[:, data2.columns != 'y']\n",
    "y = data2.loc[:, data2.columns == 'y']"
   ]
  },
  {
   "cell_type": "markdown",
   "metadata": {
    "id": "r0bHTAJgLU_m"
   },
   "source": [
    "##### Apply SMOTE to generate synthetic data"
   ]
  },
  {
   "cell_type": "code",
   "execution_count": 99,
   "metadata": {
    "id": "-bk0IeqeLU_m",
    "outputId": "b9fcfe23-5c47-4d0f-b88e-1a147e4d4942"
   },
   "outputs": [
    {
     "name": "stdout",
     "output_type": "stream",
     "text": [
      "length of oversampled data is  51134\n",
      "Number of no subscription in oversampled data 25567\n",
      "Number of subscription 25567\n",
      "Proportion of no subscription data in oversampled data is  0.5\n",
      "Proportion of subscription data in oversampled data is  0.5\n"
     ]
    }
   ],
   "source": [
    "from imblearn.over_sampling import SMOTE\n",
    "\n",
    "os = SMOTE(random_state=0)\n",
    "\n",
    "# Create training and test set - test size:30% random_state=0\n",
    "X_train, X_test, y_train, y_test = train_test_split(x, y, test_size=0.30, random_state=0)\n",
    "columns = X_train.columns\n",
    "\n",
    "# Apply oversampling ONLY ON training data\n",
    "os_data_X, os_data_y= os.fit_resample(X_train,y_train)\n",
    "\n",
    "# we can Check the numbers of our data\n",
    "print(\"length of oversampled data is \",len(os_data_X))\n",
    "print(\"Number of no subscription in oversampled data\",len(os_data_y[os_data_y['y']==0]))\n",
    "print(\"Number of subscription\",len(os_data_y[os_data_y['y']==1]))\n",
    "print(\"Proportion of no subscription data in oversampled data is \",len(os_data_y[os_data_y['y']==0])/len(os_data_X))\n",
    "print(\"Proportion of subscription data in oversampled data is \",len(os_data_y[os_data_y['y']==1])/len(os_data_X))"
   ]
  },
  {
   "cell_type": "markdown",
   "metadata": {
    "id": "bvOQCbn5LU_n"
   },
   "source": [
    "**Notice that we over-sampled only on the training data**"
   ]
  },
  {
   "cell_type": "markdown",
   "metadata": {
    "id": "ldI7OWYULU_o"
   },
   "source": [
    "##### Check if the classes in the dataset now are balanced"
   ]
  },
  {
   "cell_type": "code",
   "execution_count": 162,
   "metadata": {
    "id": "7F4XWfeOLU_o",
    "outputId": "b25ebcca-6ff9-4d81-c58a-b09e08afc827"
   },
   "outputs": [
    {
     "data": {
      "text/html": [
       "<div>\n",
       "<style scoped>\n",
       "    .dataframe tbody tr th:only-of-type {\n",
       "        vertical-align: middle;\n",
       "    }\n",
       "\n",
       "    .dataframe tbody tr th {\n",
       "        vertical-align: top;\n",
       "    }\n",
       "\n",
       "    .dataframe thead th {\n",
       "        text-align: right;\n",
       "    }\n",
       "</style>\n",
       "<table border=\"1\" class=\"dataframe\">\n",
       "  <thead>\n",
       "    <tr style=\"text-align: right;\">\n",
       "      <th></th>\n",
       "      <th>Count</th>\n",
       "      <th>Pct</th>\n",
       "    </tr>\n",
       "  </thead>\n",
       "  <tbody>\n",
       "    <tr>\n",
       "      <td>1</td>\n",
       "      <td>25567</td>\n",
       "      <td>50.0</td>\n",
       "    </tr>\n",
       "    <tr>\n",
       "      <td>0</td>\n",
       "      <td>25567</td>\n",
       "      <td>50.0</td>\n",
       "    </tr>\n",
       "  </tbody>\n",
       "</table>\n",
       "</div>"
      ],
      "text/plain": [
       "   Count   Pct\n",
       "1  25567  50.0\n",
       "0  25567  50.0"
      ]
     },
     "execution_count": 162,
     "metadata": {},
     "output_type": "execute_result"
    }
   ],
   "source": [
    "count_summary = pd.DataFrame({'Count' : os_data_y.y.value_counts(), 'Pct' : os_data_y.y.value_counts(normalize = True)*100})\n",
    "count_summary"
   ]
  },
  {
   "cell_type": "markdown",
   "metadata": {
    "id": "_oZ6JA2-LU_o"
   },
   "source": [
    "They are prefectly distributed!!"
   ]
  },
  {
   "cell_type": "markdown",
   "metadata": {
    "id": "LdRfnfcNLU_o"
   },
   "source": [
    "##### Implement the model"
   ]
  },
  {
   "cell_type": "code",
   "execution_count": 167,
   "metadata": {
    "id": "kUcjm-vwLU_o",
    "outputId": "8758ce6b-4d02-4617-fe97-eb0001efa470"
   },
   "outputs": [
    {
     "name": "stderr",
     "output_type": "stream",
     "text": [
      "C:\\Users\\Philip Harman\\Anaconda3\\lib\\site-packages\\sklearn\\utils\\validation.py:63: DataConversionWarning: A column-vector y was passed when a 1d array was expected. Please change the shape of y to (n_samples, ), for example using ravel().\n",
      "  return f(*args, **kwargs)\n",
      "C:\\Users\\Philip Harman\\Anaconda3\\lib\\site-packages\\sklearn\\linear_model\\_logistic.py:765: ConvergenceWarning: lbfgs failed to converge (status=1):\n",
      "STOP: TOTAL NO. of ITERATIONS REACHED LIMIT.\n",
      "\n",
      "Increase the number of iterations (max_iter) or scale the data as shown in:\n",
      "    https://scikit-learn.org/stable/modules/preprocessing.html\n",
      "Please also refer to the documentation for alternative solver options:\n",
      "    https://scikit-learn.org/stable/modules/linear_model.html#logistic-regression\n",
      "  extra_warning_msg=_LOGISTIC_SOLVER_CONVERGENCE_MSG)\n"
     ]
    },
    {
     "data": {
      "text/plain": [
       "LogisticRegression()"
      ]
     },
     "execution_count": 167,
     "metadata": {},
     "output_type": "execute_result"
    }
   ],
   "source": [
    "# Prepare thedata qith the oversampled dataset\n",
    "#x , y = os.fit_resample(data2.loc[:, data2.columns != 'y'], data2.loc[:, data2.columns == 'y'])\n",
    "x, y = os_data_X, os_data_y \n",
    "\n",
    "# Create training and test\n",
    "X_train, X_test, y_train, y_test = train_test_split(x, y, test_size=0.30)\n",
    "\n",
    "# Create an instance of the model \n",
    "logreg = LogisticRegression()\n",
    "\n",
    "#Fit the model\n",
    "logreg.fit(X_train,y_train)"
   ]
  },
  {
   "cell_type": "markdown",
   "metadata": {
    "id": "AGn8UB5uLU_p"
   },
   "source": [
    "#### Model Evaluation: evaluate the model and compare with previous implmentation/evaluation"
   ]
  },
  {
   "cell_type": "code",
   "execution_count": 168,
   "metadata": {
    "id": "4hmr2PtOLU_p",
    "outputId": "427d457d-6baa-4b04-b31a-9a2774713264"
   },
   "outputs": [
    {
     "name": "stdout",
     "output_type": "stream",
     "text": [
      "Accuracy of logistic regression classifier on test set: 0.88\n"
     ]
    }
   ],
   "source": [
    "#Compute predictions\n",
    "y_pred = logreg.predict(X_test)\n",
    "\n",
    "# score returns the mean accuracy on the given test data and labels.\n",
    "print('Accuracy of logistic regression classifier on test set: {:.2f}'.format(logreg.score(X_test, y_test)))"
   ]
  },
  {
   "cell_type": "markdown",
   "metadata": {
    "id": "CVLISUX8LU_p"
   },
   "source": [
    "The total accuracy decreases. Is our model obtaining poorer results? Have a deeper look analysing confusion matrix and classification report"
   ]
  },
  {
   "cell_type": "code",
   "execution_count": 169,
   "metadata": {
    "id": "2OUn3U4xLU_p",
    "outputId": "a59c4935-b6c1-40ba-c493-8d63f2ccdb17"
   },
   "outputs": [
    {
     "data": {
      "text/plain": [
       "array([[6428, 1099],\n",
       "       [ 796, 7018]], dtype=int64)"
      ]
     },
     "execution_count": 169,
     "metadata": {},
     "output_type": "execute_result"
    }
   ],
   "source": [
    "# Confusion Matrix\n",
    "metrics.confusion_matrix(y_test, y_pred)"
   ]
  },
  {
   "cell_type": "markdown",
   "metadata": {
    "id": "ONQdjT7qLU_q"
   },
   "source": [
    "Analysing the confusion matriix we can observe that now our model is able to predict quite weel both positive and negative examples!! Let's see if this is also confirmed looking at precision and recall"
   ]
  },
  {
   "cell_type": "code",
   "execution_count": 170,
   "metadata": {
    "id": "3zofTJk6LU_q",
    "outputId": "5a8fa795-3116-4b8a-9f5e-586d084e00e4"
   },
   "outputs": [
    {
     "name": "stdout",
     "output_type": "stream",
     "text": [
      "              precision    recall  f1-score   support\n",
      "\n",
      "           0       0.89      0.85      0.87      7527\n",
      "           1       0.86      0.90      0.88      7814\n",
      "\n",
      "    accuracy                           0.88     15341\n",
      "   macro avg       0.88      0.88      0.88     15341\n",
      "weighted avg       0.88      0.88      0.88     15341\n",
      "\n"
     ]
    }
   ],
   "source": [
    "#classification_report\n",
    "print(metrics.classification_report(y_test, y_pred))"
   ]
  },
  {
   "cell_type": "markdown",
   "metadata": {
    "id": "SE9Tmds3LU_q"
   },
   "source": [
    "The support is the number of occurrences of each class in y_test.\n",
    "\n",
    "\n",
    "\n",
    "##### Discuss the obtained results!"
   ]
  },
  {
   "cell_type": "markdown",
   "metadata": {
    "id": "RWl8ILWALU_q"
   },
   "source": [
    "The oversampled (i.e. balanced) dataset provides much higher precision and recal, even though the accuracy is lower. This indicates that the new model is performing better."
   ]
  },
  {
   "cell_type": "code",
   "execution_count": 171,
   "metadata": {},
   "outputs": [],
   "source": [
    "# Pickle this model and deploy a web app with Streamlit + Heroku\n",
    "# Export model\n",
    "filename = 'logreg_model.sav'\n",
    "pickle.dump(logreg, open(filename, 'wb'))"
   ]
  },
  {
   "cell_type": "code",
   "execution_count": 172,
   "metadata": {},
   "outputs": [
    {
     "data": {
      "text/html": [
       "<div>\n",
       "<style scoped>\n",
       "    .dataframe tbody tr th:only-of-type {\n",
       "        vertical-align: middle;\n",
       "    }\n",
       "\n",
       "    .dataframe tbody tr th {\n",
       "        vertical-align: top;\n",
       "    }\n",
       "\n",
       "    .dataframe thead th {\n",
       "        text-align: right;\n",
       "    }\n",
       "</style>\n",
       "<table border=\"1\" class=\"dataframe\">\n",
       "  <thead>\n",
       "    <tr style=\"text-align: right;\">\n",
       "      <th></th>\n",
       "      <th>0</th>\n",
       "      <th>1</th>\n",
       "    </tr>\n",
       "  </thead>\n",
       "  <tbody>\n",
       "    <tr>\n",
       "      <td>5</td>\n",
       "      <td>emp_var_rate</td>\n",
       "      <td>-0.352191</td>\n",
       "    </tr>\n",
       "    <tr>\n",
       "      <td>8</td>\n",
       "      <td>euribor3m</td>\n",
       "      <td>-0.327470</td>\n",
       "    </tr>\n",
       "    <tr>\n",
       "      <td>49</td>\n",
       "      <td>month_may</td>\n",
       "      <td>-0.251796</td>\n",
       "    </tr>\n",
       "    <tr>\n",
       "      <td>2</td>\n",
       "      <td>campaign</td>\n",
       "      <td>-0.228240</td>\n",
       "    </tr>\n",
       "    <tr>\n",
       "      <td>23</td>\n",
       "      <td>marital_married</td>\n",
       "      <td>-0.194241</td>\n",
       "    </tr>\n",
       "    <tr>\n",
       "      <td>26</td>\n",
       "      <td>education_basic</td>\n",
       "      <td>-0.177953</td>\n",
       "    </tr>\n",
       "    <tr>\n",
       "      <td>37</td>\n",
       "      <td>housing_yes</td>\n",
       "      <td>-0.172478</td>\n",
       "    </tr>\n",
       "    <tr>\n",
       "      <td>35</td>\n",
       "      <td>housing_no</td>\n",
       "      <td>-0.172477</td>\n",
       "    </tr>\n",
       "    <tr>\n",
       "      <td>11</td>\n",
       "      <td>job_blue-collar</td>\n",
       "      <td>-0.151660</td>\n",
       "    </tr>\n",
       "    <tr>\n",
       "      <td>42</td>\n",
       "      <td>contact_telephone</td>\n",
       "      <td>-0.146656</td>\n",
       "    </tr>\n",
       "    <tr>\n",
       "      <td>27</td>\n",
       "      <td>education_high.school</td>\n",
       "      <td>-0.123048</td>\n",
       "    </tr>\n",
       "    <tr>\n",
       "      <td>55</td>\n",
       "      <td>day_of_week_thu</td>\n",
       "      <td>-0.121129</td>\n",
       "    </tr>\n",
       "    <tr>\n",
       "      <td>33</td>\n",
       "      <td>default_unknown</td>\n",
       "      <td>-0.118144</td>\n",
       "    </tr>\n",
       "    <tr>\n",
       "      <td>54</td>\n",
       "      <td>day_of_week_mon</td>\n",
       "      <td>-0.116719</td>\n",
       "    </tr>\n",
       "    <tr>\n",
       "      <td>53</td>\n",
       "      <td>day_of_week_fri</td>\n",
       "      <td>-0.107268</td>\n",
       "    </tr>\n",
       "    <tr>\n",
       "      <td>4</td>\n",
       "      <td>previous</td>\n",
       "      <td>-0.100707</td>\n",
       "    </tr>\n",
       "    <tr>\n",
       "      <td>56</td>\n",
       "      <td>day_of_week_tue</td>\n",
       "      <td>-0.100209</td>\n",
       "    </tr>\n",
       "    <tr>\n",
       "      <td>58</td>\n",
       "      <td>poutcome_failure</td>\n",
       "      <td>-0.099615</td>\n",
       "    </tr>\n",
       "    <tr>\n",
       "      <td>57</td>\n",
       "      <td>day_of_week_wed</td>\n",
       "      <td>-0.093453</td>\n",
       "    </tr>\n",
       "    <tr>\n",
       "      <td>40</td>\n",
       "      <td>loan_yes</td>\n",
       "      <td>-0.088184</td>\n",
       "    </tr>\n",
       "    <tr>\n",
       "      <td>10</td>\n",
       "      <td>job_admin.</td>\n",
       "      <td>-0.084648</td>\n",
       "    </tr>\n",
       "    <tr>\n",
       "      <td>19</td>\n",
       "      <td>job_technician</td>\n",
       "      <td>-0.077488</td>\n",
       "    </tr>\n",
       "    <tr>\n",
       "      <td>30</td>\n",
       "      <td>education_university.degree</td>\n",
       "      <td>-0.074687</td>\n",
       "    </tr>\n",
       "    <tr>\n",
       "      <td>38</td>\n",
       "      <td>loan_no</td>\n",
       "      <td>-0.073178</td>\n",
       "    </tr>\n",
       "    <tr>\n",
       "      <td>29</td>\n",
       "      <td>education_professional.course</td>\n",
       "      <td>-0.068432</td>\n",
       "    </tr>\n",
       "    <tr>\n",
       "      <td>17</td>\n",
       "      <td>job_services</td>\n",
       "      <td>-0.066754</td>\n",
       "    </tr>\n",
       "    <tr>\n",
       "      <td>22</td>\n",
       "      <td>marital_divorced</td>\n",
       "      <td>-0.060532</td>\n",
       "    </tr>\n",
       "    <tr>\n",
       "      <td>24</td>\n",
       "      <td>marital_single</td>\n",
       "      <td>-0.056351</td>\n",
       "    </tr>\n",
       "    <tr>\n",
       "      <td>7</td>\n",
       "      <td>cons_conf_idx</td>\n",
       "      <td>-0.054084</td>\n",
       "    </tr>\n",
       "    <tr>\n",
       "      <td>14</td>\n",
       "      <td>job_management</td>\n",
       "      <td>-0.044835</td>\n",
       "    </tr>\n",
       "    <tr>\n",
       "      <td>50</td>\n",
       "      <td>month_nov</td>\n",
       "      <td>-0.043744</td>\n",
       "    </tr>\n",
       "    <tr>\n",
       "      <td>44</td>\n",
       "      <td>month_aug</td>\n",
       "      <td>-0.035200</td>\n",
       "    </tr>\n",
       "    <tr>\n",
       "      <td>59</td>\n",
       "      <td>poutcome_nonexistent</td>\n",
       "      <td>-0.035049</td>\n",
       "    </tr>\n",
       "    <tr>\n",
       "      <td>46</td>\n",
       "      <td>month_jul</td>\n",
       "      <td>-0.033157</td>\n",
       "    </tr>\n",
       "    <tr>\n",
       "      <td>31</td>\n",
       "      <td>education_unknown</td>\n",
       "      <td>-0.027480</td>\n",
       "    </tr>\n",
       "    <tr>\n",
       "      <td>16</td>\n",
       "      <td>job_self-employed</td>\n",
       "      <td>-0.023699</td>\n",
       "    </tr>\n",
       "    <tr>\n",
       "      <td>12</td>\n",
       "      <td>job_entrepreneur</td>\n",
       "      <td>-0.022320</td>\n",
       "    </tr>\n",
       "    <tr>\n",
       "      <td>43</td>\n",
       "      <td>month_apr</td>\n",
       "      <td>-0.018080</td>\n",
       "    </tr>\n",
       "    <tr>\n",
       "      <td>20</td>\n",
       "      <td>job_unemployed</td>\n",
       "      <td>-0.015724</td>\n",
       "    </tr>\n",
       "    <tr>\n",
       "      <td>13</td>\n",
       "      <td>job_housemaid</td>\n",
       "      <td>-0.015714</td>\n",
       "    </tr>\n",
       "    <tr>\n",
       "      <td>47</td>\n",
       "      <td>month_jun</td>\n",
       "      <td>-0.015618</td>\n",
       "    </tr>\n",
       "    <tr>\n",
       "      <td>36</td>\n",
       "      <td>housing_unknown</td>\n",
       "      <td>-0.015410</td>\n",
       "    </tr>\n",
       "    <tr>\n",
       "      <td>39</td>\n",
       "      <td>loan_unknown</td>\n",
       "      <td>-0.015410</td>\n",
       "    </tr>\n",
       "    <tr>\n",
       "      <td>18</td>\n",
       "      <td>job_student</td>\n",
       "      <td>-0.011207</td>\n",
       "    </tr>\n",
       "    <tr>\n",
       "      <td>9</td>\n",
       "      <td>nr_employed</td>\n",
       "      <td>-0.005121</td>\n",
       "    </tr>\n",
       "    <tr>\n",
       "      <td>52</td>\n",
       "      <td>month_sep</td>\n",
       "      <td>-0.004578</td>\n",
       "    </tr>\n",
       "    <tr>\n",
       "      <td>45</td>\n",
       "      <td>month_dec</td>\n",
       "      <td>-0.004552</td>\n",
       "    </tr>\n",
       "    <tr>\n",
       "      <td>21</td>\n",
       "      <td>job_unknown</td>\n",
       "      <td>-0.004550</td>\n",
       "    </tr>\n",
       "    <tr>\n",
       "      <td>3</td>\n",
       "      <td>pdays</td>\n",
       "      <td>-0.001895</td>\n",
       "    </tr>\n",
       "    <tr>\n",
       "      <td>25</td>\n",
       "      <td>marital_unknown</td>\n",
       "      <td>-0.001428</td>\n",
       "    </tr>\n",
       "    <tr>\n",
       "      <td>28</td>\n",
       "      <td>education_illiterate</td>\n",
       "      <td>-0.000363</td>\n",
       "    </tr>\n",
       "    <tr>\n",
       "      <td>34</td>\n",
       "      <td>default_yes</td>\n",
       "      <td>-0.000015</td>\n",
       "    </tr>\n",
       "    <tr>\n",
       "      <td>51</td>\n",
       "      <td>month_oct</td>\n",
       "      <td>0.001144</td>\n",
       "    </tr>\n",
       "    <tr>\n",
       "      <td>60</td>\n",
       "      <td>poutcome_success</td>\n",
       "      <td>0.003155</td>\n",
       "    </tr>\n",
       "    <tr>\n",
       "      <td>41</td>\n",
       "      <td>contact_cellular</td>\n",
       "      <td>0.003462</td>\n",
       "    </tr>\n",
       "    <tr>\n",
       "      <td>0</td>\n",
       "      <td>age</td>\n",
       "      <td>0.004793</td>\n",
       "    </tr>\n",
       "    <tr>\n",
       "      <td>15</td>\n",
       "      <td>job_retired</td>\n",
       "      <td>0.005314</td>\n",
       "    </tr>\n",
       "    <tr>\n",
       "      <td>1</td>\n",
       "      <td>duration</td>\n",
       "      <td>0.006636</td>\n",
       "    </tr>\n",
       "    <tr>\n",
       "      <td>48</td>\n",
       "      <td>month_mar</td>\n",
       "      <td>0.020181</td>\n",
       "    </tr>\n",
       "    <tr>\n",
       "      <td>32</td>\n",
       "      <td>default_no</td>\n",
       "      <td>0.030471</td>\n",
       "    </tr>\n",
       "  </tbody>\n",
       "</table>\n",
       "</div>"
      ],
      "text/plain": [
       "                                0         1\n",
       "5                    emp_var_rate -0.352191\n",
       "8                       euribor3m -0.327470\n",
       "49                      month_may -0.251796\n",
       "2                        campaign -0.228240\n",
       "23                marital_married -0.194241\n",
       "26                education_basic -0.177953\n",
       "37                    housing_yes -0.172478\n",
       "35                     housing_no -0.172477\n",
       "11                job_blue-collar -0.151660\n",
       "42              contact_telephone -0.146656\n",
       "27          education_high.school -0.123048\n",
       "55                day_of_week_thu -0.121129\n",
       "33                default_unknown -0.118144\n",
       "54                day_of_week_mon -0.116719\n",
       "53                day_of_week_fri -0.107268\n",
       "4                        previous -0.100707\n",
       "56                day_of_week_tue -0.100209\n",
       "58               poutcome_failure -0.099615\n",
       "57                day_of_week_wed -0.093453\n",
       "40                       loan_yes -0.088184\n",
       "10                     job_admin. -0.084648\n",
       "19                 job_technician -0.077488\n",
       "30    education_university.degree -0.074687\n",
       "38                        loan_no -0.073178\n",
       "29  education_professional.course -0.068432\n",
       "17                   job_services -0.066754\n",
       "22               marital_divorced -0.060532\n",
       "24                 marital_single -0.056351\n",
       "7                   cons_conf_idx -0.054084\n",
       "14                 job_management -0.044835\n",
       "50                      month_nov -0.043744\n",
       "44                      month_aug -0.035200\n",
       "59           poutcome_nonexistent -0.035049\n",
       "46                      month_jul -0.033157\n",
       "31              education_unknown -0.027480\n",
       "16              job_self-employed -0.023699\n",
       "12               job_entrepreneur -0.022320\n",
       "43                      month_apr -0.018080\n",
       "20                 job_unemployed -0.015724\n",
       "13                  job_housemaid -0.015714\n",
       "47                      month_jun -0.015618\n",
       "36                housing_unknown -0.015410\n",
       "39                   loan_unknown -0.015410\n",
       "18                    job_student -0.011207\n",
       "9                     nr_employed -0.005121\n",
       "52                      month_sep -0.004578\n",
       "45                      month_dec -0.004552\n",
       "21                    job_unknown -0.004550\n",
       "3                           pdays -0.001895\n",
       "25                marital_unknown -0.001428\n",
       "28           education_illiterate -0.000363\n",
       "34                    default_yes -0.000015\n",
       "51                      month_oct  0.001144\n",
       "60               poutcome_success  0.003155\n",
       "41               contact_cellular  0.003462\n",
       "0                             age  0.004793\n",
       "15                    job_retired  0.005314\n",
       "1                        duration  0.006636\n",
       "48                      month_mar  0.020181\n",
       "32                     default_no  0.030471"
      ]
     },
     "execution_count": 172,
     "metadata": {},
     "output_type": "execute_result"
    }
   ],
   "source": [
    "weights = pd.DataFrame(zip(X_train.columns,(logreg.coef_[0])))\n",
    "weights.sort_values(by = [1]).head(60)"
   ]
  }
 ],
 "metadata": {
  "colab": {
   "collapsed_sections": [],
   "name": "Session_2_Logistic_Regression_EXERCISE",
   "provenance": [],
   "toc_visible": true
  },
  "kernelspec": {
   "display_name": "Python 3",
   "language": "python",
   "name": "python3"
  },
  "language_info": {
   "codemirror_mode": {
    "name": "ipython",
    "version": 3
   },
   "file_extension": ".py",
   "mimetype": "text/x-python",
   "name": "python",
   "nbconvert_exporter": "python",
   "pygments_lexer": "ipython3",
   "version": "3.7.4"
  }
 },
 "nbformat": 4,
 "nbformat_minor": 1
}
